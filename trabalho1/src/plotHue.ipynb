{
 "cells": [
  {
   "cell_type": "markdown",
   "metadata": {},
   "source": [
    "Creates an image of the HSV hue circle"
   ]
  },
  {
   "cell_type": "code",
   "execution_count": null,
   "metadata": {},
   "outputs": [],
   "source": [
    "import numpy as np\n",
    "import matplotlib.pyplot as plt\n",
    "from matplotlib.patches import Wedge\n",
    "from matplotlib.colors import hsv_to_rgb\n",
    "\n",
    "# Cria um grid de valores de matiz\n",
    "h = np.linspace(0, 1, 360)\n",
    "\n",
    "# Cria a figura e o subplot\n",
    "fig, ax = plt.subplots(figsize=(6, 6))\n",
    "ax.set_aspect('equal')\n",
    "\n",
    "# Desenha um círculo para representar a matiz\n",
    "circle = plt.Circle((0.5, 0.5), 0.4, color='white', ec='none')\n",
    "ax.add_artist(circle)\n",
    "\n",
    "# Adiciona os setores de cunha coloridos para representar as matizes\n",
    "for i in range(len(h)):\n",
    "    theta1 = (90 - i) % 360\n",
    "    theta2 = (91 - i) % 360\n",
    "    wedge = Wedge((0.5, 0.5), 0.4, theta1, theta2, edgecolor='none', facecolor=hsv_to_rgb([h[i], 1, 1]))\n",
    "    ax.add_artist(wedge)\n",
    "\n",
    "# Adiciona os valores dos ângulos na parte de fora do círculo com alinhamento horizontal\n",
    "for angle in range(0, 360, 30):  # Ângulos a serem rotulados\n",
    "    x = 0.5 + 0.45 * np.cos(np.radians(90 - angle))\n",
    "    y = 0.5 + 0.45 * np.sin(np.radians(90 - angle))\n",
    "    ax.text(x, y, f'{angle}°', ha='center', va='center', fontsize=10, rotation=0)\n",
    "\n",
    "# Remove os eixos\n",
    "ax.set_xticks([])\n",
    "ax.set_yticks([])\n",
    "\n",
    "# Espelha horizontalmente a imagem\n",
    "ax.invert_xaxis()\n",
    "\n",
    "# Salva a imagem em um arquivo .png\n",
    "plt.savefig('trabalho1/images/hue.png', dpi=300, bbox_inches='tight', pad_inches=0)\n",
    "\n",
    "# Fecha a figura\n",
    "plt.close()"
   ]
  },
  {
   "cell_type": "markdown",
   "metadata": {},
   "source": [
    "Creates an image of the HSV hue circle with angle values around it"
   ]
  },
  {
   "cell_type": "code",
   "execution_count": 1,
   "metadata": {},
   "outputs": [],
   "source": [
    "import numpy as np\n",
    "import matplotlib.pyplot as plt\n",
    "from matplotlib.patches import Wedge\n",
    "from matplotlib.colors import hsv_to_rgb\n",
    "\n",
    "# Cria um grid de valores de matiz\n",
    "h = np.linspace(0, 1, 360)\n",
    "\n",
    "# Cria a figura e o subplot\n",
    "fig, ax = plt.subplots(figsize=(6, 6))\n",
    "ax.set_aspect('equal')\n",
    "\n",
    "# Desenha um círculo para representar a matiz\n",
    "circle = plt.Circle((0.5, 0.5), 0.4, color='white', ec='none')\n",
    "ax.add_artist(circle)\n",
    "\n",
    "# Adiciona os setores de cunha coloridos para representar as matizes\n",
    "for i in range(len(h)):\n",
    "    theta1 = (90 - i) % 360\n",
    "    theta2 = (91 - i) % 360\n",
    "    wedge = Wedge((0.5, 0.5), 0.4, theta1, theta2, edgecolor='none', facecolor=hsv_to_rgb([h[i], 1, 1]))\n",
    "    ax.add_artist(wedge)\n",
    "\n",
    "# Adiciona os valores dos ângulos na parte de fora do círculo com alinhamento horizontal\n",
    "for angle in range(0, 360, 30):  # Ângulos a serem rotulados\n",
    "    x = 0.5 + 0.45 * np.cos(np.radians(90 - angle))\n",
    "    y = 0.5 + 0.45 * np.sin(np.radians(90 - angle))\n",
    "    ax.text(x, y, f'{angle}°', ha='center', va='center', fontsize=10, rotation=0)\n",
    "\n",
    "# Remove os eixos\n",
    "ax.set_xticks([])\n",
    "ax.set_yticks([])\n",
    "\n",
    "# Espelha horizontalmente a imagem\n",
    "ax.invert_xaxis()\n",
    "\n",
    "# Salva a imagem em um arquivo .png\n",
    "plt.savefig('trabalho1/images/hue_with_angles.png', dpi=300, bbox_inches='tight', pad_inches=0)\n",
    "\n",
    "# Fecha a figura\n",
    "plt.close()"
   ]
  }
 ],
 "metadata": {
  "kernelspec": {
   "display_name": "Python 3",
   "language": "python",
   "name": "python3"
  },
  "language_info": {
   "codemirror_mode": {
    "name": "ipython",
    "version": 3
   },
   "file_extension": ".py",
   "mimetype": "text/x-python",
   "name": "python",
   "nbconvert_exporter": "python",
   "pygments_lexer": "ipython3",
   "version": "3.10.12"
  },
  "orig_nbformat": 4
 },
 "nbformat": 4,
 "nbformat_minor": 2
}
